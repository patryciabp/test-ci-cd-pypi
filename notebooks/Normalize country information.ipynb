{
 "cells": [
  {
   "cell_type": "markdown",
   "id": "d289f0cd",
   "metadata": {},
   "source": [
    "# How to...normalize country information"
   ]
  },
  {
   "cell_type": "markdown",
   "id": "56658098",
   "metadata": {},
   "source": [
    "This notebook shows how to use the entitymatching api to normalize information about countries."
   ]
  },
  {
   "cell_type": "code",
   "execution_count": 1,
   "id": "a2071535",
   "metadata": {},
   "outputs": [],
   "source": [
    "# Sets up the location of the api relative to this notebook \n",
    "import sys\n",
    "sys.path.append('../../')"
   ]
  },
  {
   "cell_type": "code",
   "execution_count": 2,
   "id": "24169860",
   "metadata": {},
   "outputs": [],
   "source": [
    "# Import the module for normalizing country information\n",
    "from financialcleaner import country"
   ]
  },
  {
   "cell_type": "markdown",
   "id": "e9221cbb",
   "metadata": {},
   "source": [
    "## 1. Basic usage"
   ]
  },
  {
   "cell_type": "markdown",
   "id": "536cf468",
   "metadata": {},
   "source": [
    "The API allows to get full information about a country (alpha2, alpha3 and name) by passing one of these data to the get_country_info() function. The result of the search can be None (country not found) or a dictionary."
   ]
  },
  {
   "cell_type": "code",
   "execution_count": 3,
   "id": "e90a13dd",
   "metadata": {},
   "outputs": [],
   "source": [
    "# Good examples of country information that can be found in data sources\n",
    "country_alpha2 = 'PT'\n",
    "country_alpha3 = 'BRA'\n",
    "country_name = ' China '"
   ]
  },
  {
   "cell_type": "code",
   "execution_count": 4,
   "id": "c657ec4a",
   "metadata": {},
   "outputs": [
    {
     "name": "stdout",
     "output_type": "stream",
     "text": [
      "Complete country information: {'country_name': 'portugal', 'country_alpha2': 'pt', 'country_alpha3': 'prt'}\n"
     ]
    }
   ],
   "source": [
    "# Get the complete information about a country given and alpha2 code\n",
    "country_info_dict = country.get_country_info(country_alpha2)\n",
    "print('Complete country information: {}'.format(country_info_dict))"
   ]
  },
  {
   "cell_type": "code",
   "execution_count": 5,
   "id": "66cea879",
   "metadata": {},
   "outputs": [
    {
     "name": "stdout",
     "output_type": "stream",
     "text": [
      "Complete country information: {'country_name': 'brazil', 'country_alpha2': 'br', 'country_alpha3': 'bra'}\n"
     ]
    }
   ],
   "source": [
    "# Get the complete information about a country given alpha3 code\n",
    "country_info_dict = country.get_country_info(country_alpha3)\n",
    "print('Complete country information: {}'.format(country_info_dict))"
   ]
  },
  {
   "cell_type": "code",
   "execution_count": 6,
   "id": "7805caf2",
   "metadata": {},
   "outputs": [
    {
     "name": "stdout",
     "output_type": "stream",
     "text": [
      "Complete country information: {'country_name': 'china', 'country_alpha2': 'cn', 'country_alpha3': 'chn'}\n"
     ]
    }
   ],
   "source": [
    "# Get the complete information about a country given a name\n",
    "country_info_dict = country.get_country_info(country_name)\n",
    "print('Complete country information: {}'.format(country_info_dict))"
   ]
  },
  {
   "cell_type": "markdown",
   "id": "4c8a7fb2",
   "metadata": {},
   "source": [
    "## 2. Some bad examples (country not found)"
   ]
  },
  {
   "cell_type": "markdown",
   "id": "35edf15b",
   "metadata": {},
   "source": [
    "The API performs an exact matching between the value passed by parameter and its internal dictionary of country information. Therefore, if the information contains strange characters or the name is not a country's name, the API will return a None object."
   ]
  },
  {
   "cell_type": "code",
   "execution_count": 7,
   "id": "def61a9e",
   "metadata": {},
   "outputs": [],
   "source": [
    "# Bad examples of country information that can be found in data sources\n",
    "country_alpha2 = '123'\n",
    "country_alpha3 = '%fff'\n",
    "country_name = ' Chinatown '"
   ]
  },
  {
   "cell_type": "code",
   "execution_count": 8,
   "id": "e3035da6",
   "metadata": {},
   "outputs": [
    {
     "name": "stdout",
     "output_type": "stream",
     "text": [
      "None\n"
     ]
    }
   ],
   "source": [
    "# Get the complete information about a country given and alpha2 code\n",
    "print(country.get_country_info(country_alpha2))"
   ]
  },
  {
   "cell_type": "code",
   "execution_count": 9,
   "id": "3a57a1df",
   "metadata": {},
   "outputs": [
    {
     "name": "stdout",
     "output_type": "stream",
     "text": [
      "None\n"
     ]
    }
   ],
   "source": [
    "# Get the complete information about a country given alpha3 code\n",
    "print(country.get_country_info(country_alpha3))"
   ]
  },
  {
   "cell_type": "code",
   "execution_count": 10,
   "id": "b045d29e",
   "metadata": {},
   "outputs": [
    {
     "name": "stdout",
     "output_type": "stream",
     "text": [
      "None\n"
     ]
    }
   ],
   "source": [
    "# Get the complete information about a country given a name\n",
    "print(country.get_country_info(country_name))"
   ]
  },
  {
   "cell_type": "markdown",
   "id": "563ab5e1",
   "metadata": {},
   "source": [
    "## 3. Customizing the output letter case"
   ]
  },
  {
   "cell_type": "markdown",
   "id": "11ec8227",
   "metadata": {},
   "source": [
    "It is possible to indicate in the output_lettercase parameter of the API that the result must be in lower, upper or title case. By default, the API uses output_lettercase='lower'."
   ]
  },
  {
   "cell_type": "code",
   "execution_count": 11,
   "id": "a5c7ed79",
   "metadata": {},
   "outputs": [],
   "source": [
    "# Good examples of country information that can be found in data sources\n",
    "country_alpha2 = 'no'\n",
    "country_alpha3 = 'rus'\n",
    "country_name = 'england'"
   ]
  },
  {
   "cell_type": "code",
   "execution_count": 12,
   "id": "70c0d64a",
   "metadata": {},
   "outputs": [
    {
     "name": "stdout",
     "output_type": "stream",
     "text": [
      "Complete country information: {'country_name': 'NORWAY', 'country_alpha2': 'NO', 'country_alpha3': 'NOR'}\n"
     ]
    }
   ],
   "source": [
    "# Get the complete information about a country given and alpha2 code\n",
    "country_info_dict = country.get_country_info(country_alpha2, output_lettercase='upper')\n",
    "print('Complete country information: {}'.format(country_info_dict))"
   ]
  },
  {
   "cell_type": "code",
   "execution_count": 13,
   "id": "40d50f80",
   "metadata": {},
   "outputs": [
    {
     "name": "stdout",
     "output_type": "stream",
     "text": [
      "Complete country information: {'country_name': 'Norway', 'country_alpha2': 'No', 'country_alpha3': 'Nor'}\n"
     ]
    }
   ],
   "source": [
    "# Get the complete information about a country given and alpha2 code\n",
    "country_info_dict = country.get_country_info(country_alpha2, output_lettercase='title')\n",
    "print('Complete country information: {}'.format(country_info_dict))"
   ]
  },
  {
   "cell_type": "code",
   "execution_count": null,
   "id": "e2cba54d",
   "metadata": {},
   "outputs": [],
   "source": []
  }
 ],
 "metadata": {
  "kernelspec": {
   "display_name": "Python 3",
   "language": "python",
   "name": "python3"
  },
  "language_info": {
   "codemirror_mode": {
    "name": "ipython",
    "version": 3
   },
   "file_extension": ".py",
   "mimetype": "text/x-python",
   "name": "python",
   "nbconvert_exporter": "python",
   "pygments_lexer": "ipython3",
   "version": "3.9.5"
  }
 },
 "nbformat": 4,
 "nbformat_minor": 5
}
