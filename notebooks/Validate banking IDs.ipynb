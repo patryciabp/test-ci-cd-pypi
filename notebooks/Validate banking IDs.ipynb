{
 "cells": [
  {
   "cell_type": "markdown",
   "id": "a937f3c4",
   "metadata": {},
   "source": [
    "# How to...validate banking IDs"
   ]
  },
  {
   "cell_type": "markdown",
   "id": "a807cc4a",
   "metadata": {},
   "source": [
    "This notebook shows how to use the entitymatching api to validate banking ids, such as ISIN, LEI and SEDOL."
   ]
  },
  {
   "cell_type": "code",
   "execution_count": 1,
   "id": "f41d78ec",
   "metadata": {},
   "outputs": [],
   "source": [
    "# Sets up the location of the api relative to this notebook \n",
    "import sys\n",
    "sys.path.append('../')"
   ]
  },
  {
   "cell_type": "code",
   "execution_count": 2,
   "id": "98eea0b4",
   "metadata": {},
   "outputs": [],
   "source": [
    "# Import the module for normalizing country information\n",
    "from test_ci_cd_pypi import simple_lib"
   ]
  },
  {
   "cell_type": "code",
   "execution_count": 3,
   "id": "336f1e42",
   "metadata": {},
   "outputs": [
    {
     "name": "stdout",
     "output_type": "stream",
     "text": [
      "['isin', 'lei', 'sedol']\n"
     ]
    }
   ],
   "source": [
    "# Check the types of validation available\n",
    "print(simple_lib.get_ids_to_validate())"
   ]
  },
  {
   "cell_type": "markdown",
   "id": "ff699a9c",
   "metadata": {},
   "source": [
    "## 1. Basic usage"
   ]
  },
  {
   "cell_type": "markdown",
   "id": "4cb88cca",
   "metadata": {},
   "source": [
    "By default, the API assumes that the value passed as parameter is an ISIN code.\n",
    "The API returns:\n",
    "- None if the value is not a string or has no characters in it.\n",
    "- True if the value is a valid ID of the specified type\n",
    "- False if the value is not a valid ID of the specified type"
   ]
  },
  {
   "cell_type": "code",
   "execution_count": 4,
   "id": "b59ac0a9",
   "metadata": {},
   "outputs": [
    {
     "data": {
      "text/plain": [
       "True"
      ]
     },
     "execution_count": 4,
     "metadata": {},
     "output_type": "execute_result"
    }
   ],
   "source": [
    "# Testing a valid ISIN code\n",
    "simple_lib.validate_id('GB00B1YW4409')"
   ]
  },
  {
   "cell_type": "code",
   "execution_count": 5,
   "id": "d1914800",
   "metadata": {},
   "outputs": [
    {
     "data": {
      "text/plain": [
       "False"
      ]
     },
     "execution_count": 5,
     "metadata": {},
     "output_type": "execute_result"
    }
   ],
   "source": [
    "# Testing an invalid ISIN code\n",
    "simple_lib.validate_id('tttt0B1YW4409')"
   ]
  },
  {
   "cell_type": "markdown",
   "id": "48fad1c5",
   "metadata": {},
   "source": [
    "## 2. Working with other ID types (LEI and SEDOL)"
   ]
  },
  {
   "cell_type": "code",
   "execution_count": 6,
   "id": "580391ac",
   "metadata": {},
   "outputs": [
    {
     "data": {
      "text/plain": [
       "True"
      ]
     },
     "execution_count": 6,
     "metadata": {},
     "output_type": "execute_result"
    }
   ],
   "source": [
    "# Testing a valid LEI code\n",
    "simple_lib.validate_id('969500DPKGC9JE9F0820', type_id='lei')"
   ]
  },
  {
   "cell_type": "code",
   "execution_count": 7,
   "id": "0d0be5de",
   "metadata": {},
   "outputs": [
    {
     "data": {
      "text/plain": [
       "True"
      ]
     },
     "execution_count": 7,
     "metadata": {},
     "output_type": "execute_result"
    }
   ],
   "source": [
    "# Testing a valid SEDOL code\n",
    "simple_lib.validate_id('2595708', type_id='sedol')"
   ]
  },
  {
   "cell_type": "code",
   "execution_count": null,
   "id": "3aff58af",
   "metadata": {},
   "outputs": [],
   "source": []
  }
 ],
 "metadata": {
  "kernelspec": {
   "display_name": "Python 3 (ipykernel)",
   "language": "python",
   "name": "python3"
  },
  "language_info": {
   "codemirror_mode": {
    "name": "ipython",
    "version": 3
   },
   "file_extension": ".py",
   "mimetype": "text/x-python",
   "name": "python",
   "nbconvert_exporter": "python",
   "pygments_lexer": "ipython3",
   "version": "3.8.11"
  }
 },
 "nbformat": 4,
 "nbformat_minor": 5
}
